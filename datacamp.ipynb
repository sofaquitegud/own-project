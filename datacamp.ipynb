{
 "cells": [
  {
   "cell_type": "code",
   "execution_count": null,
   "metadata": {},
   "outputs": [],
   "source": [
    "import pandas as pd\n",
    "from sklearn.linear_model import LinearRegression\n",
    "from sklearn.ensemble import RandomForestRegressor\n",
    "\n",
    "# Load the data\n",
    "house_sales_data = pd.read_csv(\"../own-project/house_sales.csv\")\n",
    "\n",
    "house_sales_data.head()"
   ]
  },
  {
   "cell_type": "code",
   "execution_count": null,
   "metadata": {},
   "outputs": [],
   "source": [
    "# Task 1: Treat '--' as missing values in 'city' and replace with \"Unknown\"\n",
    "# Replace '--' with NaN and count missing values\n",
    "house_sales_data[\"city\"] = house_sales_data[\"city\"].replace(\"--\", pd.NA)\n",
    "missing_city = house_sales_data[\"city\"].isna().sum()  # Count missing values in 'city'\n",
    "\n",
    "# Replace missing values in 'city' with \"Unknown\"\n",
    "house_sales_data[\"city\"] = house_sales_data[\"city\"].fillna(\"Unknown\")\n",
    "\n",
    "print(\"Missing values in city: \", missing_city)"
   ]
  },
  {
   "cell_type": "code",
   "execution_count": null,
   "metadata": {},
   "outputs": [],
   "source": [
    "# Task 2: Data Cleaning\n",
    "\n",
    "\n",
    "def clean_data(df):\n",
    "    \"\"\"Clean the dataset according to specified criteria.\"\"\"\n",
    "    # Remove rows where 'sale_price' is missing\n",
    "    df = df.dropna(subset=[\"sale_price\"]).copy()\n",
    "\n",
    "    # Replace missing 'sale_date' values with '2023-01-01'\n",
    "    df[\"sale_date\"] = df[\"sale_date\"].fillna(\"2023-01-01\")\n",
    "\n",
    "    # Replace missing 'months_listed' values with the mean, rounded to one decimal place\n",
    "    mean_months_listed = round(df[\"months_listed\"].mean(), 1)\n",
    "    df[\"months_listed\"] = df[\"months_listed\"].fillna(mean_months_listed)\n",
    "\n",
    "    # Replace missing 'bedrooms' values with the mean, rounded to the nearest integer\n",
    "    mean_bedrooms = int(round(df[\"bedrooms\"].mean()))\n",
    "    df[\"bedrooms\"] = df[\"bedrooms\"].fillna(mean_bedrooms)\n",
    "\n",
    "    # Replace missing 'house_type' values with the most common house type\n",
    "    most_common_house_type = df[\"house_type\"].mode()[0]\n",
    "    df[\"house_type\"] = df[\"house_type\"].fillna(most_common_house_type)\n",
    "\n",
    "    # Remove \" sq.m.\" suffix from 'area' column and convert to numeric\n",
    "    df[\"area\"] = df[\"area\"].str.replace(\" sq.m.\", \"\", regex=False).astype(float)\n",
    "\n",
    "    # Replace any remaining NA values in 'area' with the mean, rounded to one decimal place\n",
    "    mean_area = round(df[\"area\"].mean(), 1)\n",
    "    df[\"area\"] = df[\"area\"].fillna(mean_area)\n",
    "\n",
    "    return df\n",
    "\n",
    "\n",
    "# Apply the data cleaning function\n",
    "clean_data_df = clean_data(house_sales_data)\n",
    "\n",
    "# Display the first few rows of the cleaned dataset\n",
    "clean_data_df.head()"
   ]
  },
  {
   "cell_type": "code",
   "execution_count": null,
   "metadata": {},
   "outputs": [],
   "source": [
    "# Task 3: Calculate average sale price and variance by number of bedrooms\n",
    "\n",
    "\n",
    "def calculate_price_by_rooms(df):\n",
    "    \"\"\"Calculate average sale price and variance by number of bedrooms.\"\"\"\n",
    "    price_by_rooms = (\n",
    "        df.groupby(\"bedrooms\")\n",
    "        .agg(avg_price=(\"sale_price\", \"mean\"), var_price=(\"sale_price\", \"var\"))\n",
    "        .reset_index()\n",
    "    )\n",
    "    price_by_rooms[\"avg_price\"] = price_by_rooms[\"avg_price\"].round(1)\n",
    "    price_by_rooms[\"var_price\"] = price_by_rooms[\"var_price\"].round(1)\n",
    "    return price_by_rooms\n",
    "\n",
    "\n",
    "# Calculate price by rooms\n",
    "price_by_rooms_df = calculate_price_by_rooms(clean_data_df)\n",
    "\n",
    "# Display the result\n",
    "price_by_rooms_df"
   ]
  },
  {
   "cell_type": "code",
   "execution_count": null,
   "metadata": {},
   "outputs": [],
   "source": [
    "# Load train and validation datasets\n",
    "train_data = pd.read_csv(\"../own-project/train.csv\")\n",
    "val_data = pd.read_csv(\"../own-project/validation.csv\")"
   ]
  },
  {
   "cell_type": "code",
   "execution_count": null,
   "metadata": {},
   "outputs": [],
   "source": [
    "# Task 4: Fit a Baseline Model (Linear Regression)\n",
    "\n",
    "\n",
    "def baseline_model(train_df, validation_df):\n",
    "    \"\"\"Fit a linear regression model to predict sale price and return predictions.\"\"\"\n",
    "    features = [\"bedrooms\", \"area\", \"months_listed\"]\n",
    "    X_train = train_df[features]\n",
    "    y_train = train_df[\"sale_price\"]\n",
    "    X_validation = validation_df[features]\n",
    "\n",
    "    model = LinearRegression()\n",
    "    model.fit(X_train, y_train)\n",
    "    predictions = model.predict(X_validation)\n",
    "\n",
    "    return pd.DataFrame(\n",
    "        {\"house_id\": validation_df[\"house_id\"], \"price\": predictions.round(1)}\n",
    "    )\n",
    "\n",
    "\n",
    "# Generate predictions using the baseline model\n",
    "base_result_df = baseline_model(train_data, val_data)\n",
    "\n",
    "# Display the baseline model results\n",
    "base_result_df"
   ]
  },
  {
   "cell_type": "code",
   "execution_count": null,
   "metadata": {},
   "outputs": [],
   "source": [
    "# Task 5: Fit a Comparison Model (Random Forest)\n",
    "\n",
    "\n",
    "def comparison_model(train_df, validation_df):\n",
    "    \"\"\"Fit a random forest model to predict sale price and return predictions.\"\"\"\n",
    "    features = [\"bedrooms\", \"area\", \"months_listed\"]\n",
    "    X_train = train_df[features]\n",
    "    y_train = train_df[\"sale_price\"]\n",
    "    X_validation = validation_df[features]\n",
    "\n",
    "    model = RandomForestRegressor(n_estimators=100, random_state=42)\n",
    "    model.fit(X_train, y_train)\n",
    "    predictions = model.predict(X_validation)\n",
    "\n",
    "    return pd.DataFrame(\n",
    "        {\"house_id\": validation_df[\"house_id\"], \"price\": predictions.round(1)}\n",
    "    )\n",
    "\n",
    "\n",
    "# Generate predictions using the comparison model\n",
    "compare_result_df = comparison_model(train_data, val_data)\n",
    "\n",
    "# Display the comparison model results\n",
    "compare_result_df"
   ]
  }
 ],
 "metadata": {
  "kernelspec": {
   "display_name": "mydatascienv",
   "language": "python",
   "name": "python3"
  },
  "language_info": {
   "codemirror_mode": {
    "name": "ipython",
    "version": 3
   },
   "file_extension": ".py",
   "mimetype": "text/x-python",
   "name": "python",
   "nbconvert_exporter": "python",
   "pygments_lexer": "ipython3",
   "version": "3.9.20"
  }
 },
 "nbformat": 4,
 "nbformat_minor": 2
}
