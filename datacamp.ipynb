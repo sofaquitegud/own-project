{
 "cells": [
  {
   "cell_type": "code",
   "execution_count": null,
   "metadata": {},
   "outputs": [],
   "source": [
    "import pandas as pd\n",
    "\n",
    "# Load the data\n",
    "house_sales_data = pd.read_csv(\"../own-project/house_sales.csv\")\n",
    "\n",
    "house_sales_data.head()"
   ]
  },
  {
   "cell_type": "code",
   "execution_count": null,
   "metadata": {},
   "outputs": [],
   "source": [
    "# Task 1: Treat '--' as missing values in 'city' and replace with \"Unknown\"\n",
    "# Replace '--' with NaN and count missing values\n",
    "house_sales_data[\"city\"] = house_sales_data[\"city\"].replace(\"--\", pd.NA)\n",
    "missing_city = house_sales_data[\"city\"].isna().sum()  # Count missing values in 'city'\n",
    "\n",
    "# Replace missing values in 'city' with \"Unknown\"\n",
    "house_sales_data[\"city\"] = house_sales_data[\"city\"].fillna(\"Unknown\")\n",
    "\n",
    "print(\"Missing values in 'city':\", missing_city)"
   ]
  }
 ],
 "metadata": {
  "kernelspec": {
   "display_name": "mydatascienv",
   "language": "python",
   "name": "python3"
  },
  "language_info": {
   "codemirror_mode": {
    "name": "ipython",
    "version": 3
   },
   "file_extension": ".py",
   "mimetype": "text/x-python",
   "name": "python",
   "nbconvert_exporter": "python",
   "pygments_lexer": "ipython3",
   "version": "3.9.20"
  }
 },
 "nbformat": 4,
 "nbformat_minor": 2
}
